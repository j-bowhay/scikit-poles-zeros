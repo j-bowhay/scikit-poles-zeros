{
 "cells": [
  {
   "cell_type": "code",
   "execution_count": 20,
   "metadata": {},
   "outputs": [],
   "source": [
    "import numpy as np"
   ]
  },
  {
   "cell_type": "code",
   "execution_count": null,
   "metadata": {},
   "outputs": [],
   "source": [
    "from sympy import I, init_printing, prod, symbols\n",
    "\n",
    "init_printing()\n",
    "z = symbols(\"z\")"
   ]
  },
  {
   "cell_type": "code",
   "execution_count": 117,
   "metadata": {},
   "outputs": [],
   "source": [
    "n_poles = 2\n",
    "n_zeros = 2\n",
    "\n",
    "rng = np.random.default_rng(1)\n",
    "\n",
    "tmp = list(\n",
    "    set(\n",
    "        rng.integers(1, 99, 10 * (n_poles + n_zeros))\n",
    "        + rng.integers(1, 99, 10 * (n_poles + n_zeros)) * I\n",
    "    )\n",
    ")\n",
    "tmp2 = rng.choice(tmp, n_poles + n_zeros)\n",
    "\n",
    "zeros = tmp2[:n_zeros].tolist()\n",
    "poles = tmp2[n_zeros:].tolist()"
   ]
  },
  {
   "cell_type": "code",
   "execution_count": 118,
   "metadata": {},
   "outputs": [
    {
     "name": "stdout",
     "output_type": "stream",
     "text": [
      "[42 + 72*I, 96 + 42*I]\n"
     ]
    }
   ],
   "source": [
    "print(repr(zeros))"
   ]
  },
  {
   "cell_type": "code",
   "execution_count": 119,
   "metadata": {},
   "outputs": [
    {
     "data": {
      "text/plain": [
       "'[85 + 42*I, 33 + 62*I]'"
      ]
     },
     "execution_count": 119,
     "metadata": {},
     "output_type": "execute_result"
    }
   ],
   "source": [
    "repr(poles)"
   ]
  },
  {
   "cell_type": "code",
   "execution_count": 120,
   "metadata": {},
   "outputs": [],
   "source": [
    "f = prod(z - k for k in zeros) / prod(z - k for k in poles)\n",
    "f_z = f * (1 / sum(z - k for k in zeros) - 1 / sum(z - k for k in poles))"
   ]
  },
  {
   "cell_type": "code",
   "execution_count": 113,
   "metadata": {},
   "outputs": [
    {
     "data": {
      "text/latex": [
       "$\\displaystyle \\frac{\\left(z - 88 - 63 i\\right) \\left(z - 86 - 97 i\\right) \\left(z - 72 - 37 i\\right) \\left(z - 45 - 91 i\\right)^{2} \\left(z - 42 - 44 i\\right)^{2} \\left(z - 32 - 18 i\\right) \\left(z - 18 - 62 i\\right)}{\\left(z - 95 - 44 i\\right) \\left(z - 79 - 84 i\\right) \\left(z - 74 - 28 i\\right) \\left(z - 68 - 69 i\\right) \\left(z - 63 - 47 i\\right) \\left(z - 57 - 27 i\\right) \\left(z - 30 - 69 i\\right) \\left(z - 20 - 66 i\\right) \\left(z - 9 - 8 i\\right)}$"
      ],
      "text/plain": [
       "                                                                             2 ↪\n",
       "              (z - 88 - 63⋅ⅈ)⋅(z - 86 - 97⋅ⅈ)⋅(z - 72 - 37⋅ⅈ)⋅(z - 45 - 91⋅ⅈ)  ↪\n",
       "────────────────────────────────────────────────────────────────────────────── ↪\n",
       "(z - 95 - 44⋅ⅈ)⋅(z - 79 - 84⋅ⅈ)⋅(z - 74 - 28⋅ⅈ)⋅(z - 68 - 69⋅ⅈ)⋅(z - 63 - 47⋅ⅈ ↪\n",
       "\n",
       "↪                 2                                              \n",
       "↪ ⋅(z - 42 - 44⋅ⅈ) ⋅(z - 32 - 18⋅ⅈ)⋅(z - 18 - 62⋅ⅈ)              \n",
       "↪ ───────────────────────────────────────────────────────────────\n",
       "↪ )⋅(z - 57 - 27⋅ⅈ)⋅(z - 30 - 69⋅ⅈ)⋅(z - 20 - 66⋅ⅈ)⋅(z - 9 - 8⋅ⅈ)"
      ]
     },
     "execution_count": 113,
     "metadata": {},
     "output_type": "execute_result"
    }
   ],
   "source": [
    "f"
   ]
  },
  {
   "cell_type": "code",
   "execution_count": 121,
   "metadata": {},
   "outputs": [
    {
     "data": {
      "text/latex": [
       "$\\displaystyle \\frac{\\left(- \\frac{1}{2 z - 118 - 104 i} + \\frac{1}{2 z - 138 - 114 i}\\right) \\left(z - 96 - 42 i\\right) \\left(z - 42 - 72 i\\right)}{\\left(z - 85 - 42 i\\right) \\left(z - 33 - 62 i\\right)}$"
      ],
      "text/plain": [
       "⎛          1                   1        ⎞                                \n",
       "⎜- ───────────────── + ─────────────────⎟⋅(z - 96 - 42⋅ⅈ)⋅(z - 42 - 72⋅ⅈ)\n",
       "⎝  2⋅z - 118 - 104⋅ⅈ   2⋅z - 138 - 114⋅ⅈ⎠                                \n",
       "─────────────────────────────────────────────────────────────────────────\n",
       "                     (z - 85 - 42⋅ⅈ)⋅(z - 33 - 62⋅ⅈ)                     "
      ]
     },
     "execution_count": 121,
     "metadata": {},
     "output_type": "execute_result"
    }
   ],
   "source": [
    "f_z"
   ]
  },
  {
   "cell_type": "code",
   "execution_count": 114,
   "metadata": {},
   "outputs": [
    {
     "data": {
      "text/plain": [
       "'(z - 88 - 63*1j)*(z - 86 - 97*1j)*(z - 72 - 37*1j)*(z - 45 - 91*1j)**2*(z - 42 - 44*1j)**2*(z - 32 - 18*1j)*(z - 18 - 62*1j)/((z - 95 - 44*1j)*(z - 79 - 84*1j)*(z - 74 - 28*1j)*(z - 68 - 69*1j)*(z - 63 - 47*1j)*(z - 57 - 27*1j)*(z - 30 - 69*1j)*(z - 20 - 66*1j)*(z - 9 - 8*1j))'"
      ]
     },
     "execution_count": 114,
     "metadata": {},
     "output_type": "execute_result"
    }
   ],
   "source": [
    "from sympy.printing.numpy import NumPyPrinter\n",
    "\n",
    "p = NumPyPrinter()\n",
    "\n",
    "p.doprint(f)"
   ]
  },
  {
   "cell_type": "code",
   "execution_count": 115,
   "metadata": {},
   "outputs": [
    {
     "data": {
      "text/latex": [
       "$\\displaystyle 0.18976369321225 + 0.0671099288207642 i$"
      ],
      "text/plain": [
       "0.18976369321225 + 0.0671099288207642⋅ⅈ"
      ]
     },
     "execution_count": 115,
     "metadata": {},
     "output_type": "execute_result"
    }
   ],
   "source": [
    "f.diff(z).subs(z, 0).evalf()"
   ]
  },
  {
   "cell_type": "code",
   "execution_count": 116,
   "metadata": {},
   "outputs": [
    {
     "data": {
      "text/latex": [
       "$\\displaystyle 0.000213475699563555 + 0.000564887975945979 i$"
      ],
      "text/plain": [
       "0.000213475699563555 + 0.000564887975945979⋅ⅈ"
      ]
     },
     "execution_count": 116,
     "metadata": {},
     "output_type": "execute_result"
    }
   ],
   "source": [
    "f_z.subs(z, 0).evalf()"
   ]
  },
  {
   "cell_type": "code",
   "execution_count": null,
   "metadata": {},
   "outputs": [],
   "source": []
  }
 ],
 "metadata": {
  "kernelspec": {
   "display_name": "venv",
   "language": "python",
   "name": "python3"
  },
  "language_info": {
   "codemirror_mode": {
    "name": "ipython",
    "version": 3
   },
   "file_extension": ".py",
   "mimetype": "text/x-python",
   "name": "python",
   "nbconvert_exporter": "python",
   "pygments_lexer": "ipython3",
   "version": "3.13.2"
  }
 },
 "nbformat": 4,
 "nbformat_minor": 2
}
