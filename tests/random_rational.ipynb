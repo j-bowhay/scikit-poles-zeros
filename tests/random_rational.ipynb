{
 "cells": [
  {
   "cell_type": "code",
   "execution_count": 20,
   "metadata": {},
   "outputs": [],
   "source": [
    "import numpy as np"
   ]
  },
  {
   "cell_type": "code",
   "execution_count": 58,
   "metadata": {},
   "outputs": [],
   "source": [
    "n_poles = 1\n",
    "n_zeros = 20\n",
    "\n",
    "rng = np.random.default_rng(1)\n",
    "\n",
    "tmp = np.unique(\n",
    "    rng.integers(1, 99, 10 * (n_poles + n_zeros))\n",
    "    + rng.integers(1, 99, 10 * (n_poles + n_zeros)) * 1j\n",
    ")\n",
    "tmp2 = rng.choice(tmp, n_poles + n_zeros)\n",
    "\n",
    "zeros = tmp2[:n_zeros].tolist()\n",
    "poles = tmp2[n_zeros:].tolist()"
   ]
  },
  {
   "cell_type": "code",
   "execution_count": null,
   "metadata": {},
   "outputs": [
    {
     "data": {
      "text/plain": [
       "'[(55+93j), (8+39j), (86+91j), (95+31j), (42+9j), (55+93j), (55+93j), (79+78j), (7+95j), (54+79j), (83+80j), (64+91j), (58+28j), (4+48j), (89+57j), (22+36j), (40+72j), (72+31j), (48+20j), (61+50j)]'"
      ]
     },
     "execution_count": 59,
     "metadata": {},
     "output_type": "execute_result"
    }
   ],
   "source": [
    "print(repr(zeros))"
   ]
  },
  {
   "cell_type": "code",
   "execution_count": 60,
   "metadata": {},
   "outputs": [
    {
     "data": {
      "text/plain": [
       "'[(62+90j)]'"
      ]
     },
     "execution_count": 60,
     "metadata": {},
     "output_type": "execute_result"
    }
   ],
   "source": [
    "repr(poles)"
   ]
  },
  {
   "cell_type": "code",
   "execution_count": 61,
   "metadata": {},
   "outputs": [],
   "source": [
    "from sympy import init_printing, prod, symbols\n",
    "\n",
    "init_printing()\n",
    "z = symbols(\"z\")"
   ]
  },
  {
   "cell_type": "code",
   "execution_count": 63,
   "metadata": {},
   "outputs": [
    {
     "ename": "KeyboardInterrupt",
     "evalue": "",
     "output_type": "error",
     "traceback": [
      "\u001b[31m---------------------------------------------------------------------------\u001b[39m",
      "\u001b[31mKeyError\u001b[39m                                  Traceback (most recent call last)",
      "\u001b[36mFile \u001b[39m\u001b[32m~/development/scikit-poles-zeros/venv/lib/python3.13/site-packages/sympy/core/assumptions.py:499\u001b[39m, in \u001b[36mmake_property.<locals>.getit\u001b[39m\u001b[34m(self)\u001b[39m\n\u001b[32m    498\u001b[39m \u001b[38;5;28;01mtry\u001b[39;00m:\n\u001b[32m--> \u001b[39m\u001b[32m499\u001b[39m     \u001b[38;5;28;01mreturn\u001b[39;00m \u001b[38;5;28;43mself\u001b[39;49m\u001b[43m.\u001b[49m\u001b[43m_assumptions\u001b[49m\u001b[43m[\u001b[49m\u001b[43mfact\u001b[49m\u001b[43m]\u001b[49m\n\u001b[32m    500\u001b[39m \u001b[38;5;28;01mexcept\u001b[39;00m \u001b[38;5;167;01mKeyError\u001b[39;00m:\n",
      "\u001b[31mKeyError\u001b[39m: 'positive'",
      "\nDuring handling of the above exception, another exception occurred:\n",
      "\u001b[31mKeyError\u001b[39m                                  Traceback (most recent call last)",
      "\u001b[36mFile \u001b[39m\u001b[32m~/development/scikit-poles-zeros/venv/lib/python3.13/site-packages/sympy/core/assumptions.py:499\u001b[39m, in \u001b[36mmake_property.<locals>.getit\u001b[39m\u001b[34m(self)\u001b[39m\n\u001b[32m    498\u001b[39m \u001b[38;5;28;01mtry\u001b[39;00m:\n\u001b[32m--> \u001b[39m\u001b[32m499\u001b[39m     \u001b[38;5;28;01mreturn\u001b[39;00m \u001b[38;5;28;43mself\u001b[39;49m\u001b[43m.\u001b[49m\u001b[43m_assumptions\u001b[49m\u001b[43m[\u001b[49m\u001b[43mfact\u001b[49m\u001b[43m]\u001b[49m\n\u001b[32m    500\u001b[39m \u001b[38;5;28;01mexcept\u001b[39;00m \u001b[38;5;167;01mKeyError\u001b[39;00m:\n",
      "\u001b[31mKeyError\u001b[39m: 'zero'",
      "\nDuring handling of the above exception, another exception occurred:\n",
      "\u001b[31mKeyError\u001b[39m                                  Traceback (most recent call last)",
      "\u001b[36mFile \u001b[39m\u001b[32m~/development/scikit-poles-zeros/venv/lib/python3.13/site-packages/sympy/core/assumptions.py:499\u001b[39m, in \u001b[36mmake_property.<locals>.getit\u001b[39m\u001b[34m(self)\u001b[39m\n\u001b[32m    498\u001b[39m \u001b[38;5;28;01mtry\u001b[39;00m:\n\u001b[32m--> \u001b[39m\u001b[32m499\u001b[39m     \u001b[38;5;28;01mreturn\u001b[39;00m \u001b[38;5;28;43mself\u001b[39;49m\u001b[43m.\u001b[49m\u001b[43m_assumptions\u001b[49m\u001b[43m[\u001b[49m\u001b[43mfact\u001b[49m\u001b[43m]\u001b[49m\n\u001b[32m    500\u001b[39m \u001b[38;5;28;01mexcept\u001b[39;00m \u001b[38;5;167;01mKeyError\u001b[39;00m:\n",
      "\u001b[31mKeyError\u001b[39m: 'integer'",
      "\nDuring handling of the above exception, another exception occurred:\n",
      "\u001b[31mKeyboardInterrupt\u001b[39m                         Traceback (most recent call last)",
      "\u001b[36mCell\u001b[39m\u001b[36m \u001b[39m\u001b[32mIn[63]\u001b[39m\u001b[32m, line 3\u001b[39m\n\u001b[32m      1\u001b[39m f = prod(z - k \u001b[38;5;28;01mfor\u001b[39;00m k \u001b[38;5;129;01min\u001b[39;00m zeros)/prod(z - k \u001b[38;5;28;01mfor\u001b[39;00m k \u001b[38;5;129;01min\u001b[39;00m poles)\n\u001b[32m      2\u001b[39m f_z = f.diff(z)\n\u001b[32m----> \u001b[39m\u001b[32m3\u001b[39m f_zz = \u001b[43mf_z\u001b[49m\u001b[43m.\u001b[49m\u001b[43mdiff\u001b[49m\u001b[43m(\u001b[49m\u001b[43mz\u001b[49m\u001b[43m)\u001b[49m\u001b[43m.\u001b[49m\u001b[43msimplify\u001b[49m\u001b[43m(\u001b[49m\u001b[43m)\u001b[49m\n",
      "\u001b[36mFile \u001b[39m\u001b[32m~/development/scikit-poles-zeros/venv/lib/python3.13/site-packages/sympy/core/basic.py:1936\u001b[39m, in \u001b[36mBasic.simplify\u001b[39m\u001b[34m(self, **kwargs)\u001b[39m\n\u001b[32m   1934\u001b[39m \u001b[38;5;250m\u001b[39m\u001b[33;03m\"\"\"See the simplify function in sympy.simplify\"\"\"\u001b[39;00m\n\u001b[32m   1935\u001b[39m \u001b[38;5;28;01mfrom\u001b[39;00m\u001b[38;5;250m \u001b[39m\u001b[34;01msympy\u001b[39;00m\u001b[34;01m.\u001b[39;00m\u001b[34;01msimplify\u001b[39;00m\u001b[34;01m.\u001b[39;00m\u001b[34;01msimplify\u001b[39;00m\u001b[38;5;250m \u001b[39m\u001b[38;5;28;01mimport\u001b[39;00m simplify\n\u001b[32m-> \u001b[39m\u001b[32m1936\u001b[39m \u001b[38;5;28;01mreturn\u001b[39;00m \u001b[43msimplify\u001b[49m\u001b[43m(\u001b[49m\u001b[38;5;28;43mself\u001b[39;49m\u001b[43m,\u001b[49m\u001b[43m \u001b[49m\u001b[43m*\u001b[49m\u001b[43m*\u001b[49m\u001b[43mkwargs\u001b[49m\u001b[43m)\u001b[49m\n",
      "\u001b[36mFile \u001b[39m\u001b[32m~/development/scikit-poles-zeros/venv/lib/python3.13/site-packages/sympy/simplify/simplify.py:643\u001b[39m, in \u001b[36msimplify\u001b[39m\u001b[34m(expr, ratio, measure, rational, inverse, doit, **kwargs)\u001b[39m\n\u001b[32m    640\u001b[39m     expr = nsimplify(expr, rational=\u001b[38;5;28;01mTrue\u001b[39;00m)\n\u001b[32m    642\u001b[39m expr = _bottom_up(expr, \u001b[38;5;28;01mlambda\u001b[39;00m w: \u001b[38;5;28mgetattr\u001b[39m(w, \u001b[33m'\u001b[39m\u001b[33mnormal\u001b[39m\u001b[33m'\u001b[39m, \u001b[38;5;28;01mlambda\u001b[39;00m: w)())\n\u001b[32m--> \u001b[39m\u001b[32m643\u001b[39m expr = Mul(*\u001b[43mpowsimp\u001b[49m\u001b[43m(\u001b[49m\u001b[43mexpr\u001b[49m\u001b[43m)\u001b[49m.as_content_primitive())\n\u001b[32m    644\u001b[39m _e = cancel(expr)\n\u001b[32m    645\u001b[39m expr1 = shorter(_e, _mexpand(_e).cancel())  \u001b[38;5;66;03m# issue 6829\u001b[39;00m\n",
      "\u001b[36mFile \u001b[39m\u001b[32m~/development/scikit-poles-zeros/venv/lib/python3.13/site-packages/sympy/simplify/powsimp.py:117\u001b[39m, in \u001b[36mpowsimp\u001b[39m\u001b[34m(expr, deep, combine, force, measure)\u001b[39m\n\u001b[32m    114\u001b[39m     \u001b[38;5;28;01mreturn\u001b[39;00m expr\n\u001b[32m    116\u001b[39m \u001b[38;5;28;01mif\u001b[39;00m deep \u001b[38;5;129;01mor\u001b[39;00m expr.is_Add \u001b[38;5;129;01mor\u001b[39;00m expr.is_Mul \u001b[38;5;129;01mand\u001b[39;00m _y \u001b[38;5;129;01mnot\u001b[39;00m \u001b[38;5;129;01min\u001b[39;00m expr.args:\n\u001b[32m--> \u001b[39m\u001b[32m117\u001b[39m     expr = expr.func(*[\u001b[43mrecurse\u001b[49m\u001b[43m(\u001b[49m\u001b[43mw\u001b[49m\u001b[43m)\u001b[49m \u001b[38;5;28;01mfor\u001b[39;00m w \u001b[38;5;129;01min\u001b[39;00m expr.args])\n\u001b[32m    119\u001b[39m \u001b[38;5;28;01mif\u001b[39;00m expr.is_Pow:\n\u001b[32m    120\u001b[39m     \u001b[38;5;28;01mreturn\u001b[39;00m recurse(expr*_y, deep=\u001b[38;5;28;01mFalse\u001b[39;00m)/_y\n",
      "\u001b[36mFile \u001b[39m\u001b[32m~/development/scikit-poles-zeros/venv/lib/python3.13/site-packages/sympy/simplify/powsimp.py:108\u001b[39m, in \u001b[36mpowsimp.<locals>.recurse\u001b[39m\u001b[34m(arg, **kwargs)\u001b[39m\n\u001b[32m    106\u001b[39m _force = kwargs.get(\u001b[33m'\u001b[39m\u001b[33mforce\u001b[39m\u001b[33m'\u001b[39m, force)\n\u001b[32m    107\u001b[39m _measure = kwargs.get(\u001b[33m'\u001b[39m\u001b[33mmeasure\u001b[39m\u001b[33m'\u001b[39m, measure)\n\u001b[32m--> \u001b[39m\u001b[32m108\u001b[39m \u001b[38;5;28;01mreturn\u001b[39;00m \u001b[43mpowsimp\u001b[49m\u001b[43m(\u001b[49m\u001b[43marg\u001b[49m\u001b[43m,\u001b[49m\u001b[43m \u001b[49m\u001b[43m_deep\u001b[49m\u001b[43m,\u001b[49m\u001b[43m \u001b[49m\u001b[43m_combine\u001b[49m\u001b[43m,\u001b[49m\u001b[43m \u001b[49m\u001b[43m_force\u001b[49m\u001b[43m,\u001b[49m\u001b[43m \u001b[49m\u001b[43m_measure\u001b[49m\u001b[43m)\u001b[49m\n",
      "\u001b[36mFile \u001b[39m\u001b[32m~/development/scikit-poles-zeros/venv/lib/python3.13/site-packages/sympy/simplify/powsimp.py:117\u001b[39m, in \u001b[36mpowsimp\u001b[39m\u001b[34m(expr, deep, combine, force, measure)\u001b[39m\n\u001b[32m    114\u001b[39m     \u001b[38;5;28;01mreturn\u001b[39;00m expr\n\u001b[32m    116\u001b[39m \u001b[38;5;28;01mif\u001b[39;00m deep \u001b[38;5;129;01mor\u001b[39;00m expr.is_Add \u001b[38;5;129;01mor\u001b[39;00m expr.is_Mul \u001b[38;5;129;01mand\u001b[39;00m _y \u001b[38;5;129;01mnot\u001b[39;00m \u001b[38;5;129;01min\u001b[39;00m expr.args:\n\u001b[32m--> \u001b[39m\u001b[32m117\u001b[39m     expr = expr.func(*[\u001b[43mrecurse\u001b[49m\u001b[43m(\u001b[49m\u001b[43mw\u001b[49m\u001b[43m)\u001b[49m \u001b[38;5;28;01mfor\u001b[39;00m w \u001b[38;5;129;01min\u001b[39;00m expr.args])\n\u001b[32m    119\u001b[39m \u001b[38;5;28;01mif\u001b[39;00m expr.is_Pow:\n\u001b[32m    120\u001b[39m     \u001b[38;5;28;01mreturn\u001b[39;00m recurse(expr*_y, deep=\u001b[38;5;28;01mFalse\u001b[39;00m)/_y\n",
      "\u001b[36mFile \u001b[39m\u001b[32m~/development/scikit-poles-zeros/venv/lib/python3.13/site-packages/sympy/simplify/powsimp.py:108\u001b[39m, in \u001b[36mpowsimp.<locals>.recurse\u001b[39m\u001b[34m(arg, **kwargs)\u001b[39m\n\u001b[32m    106\u001b[39m _force = kwargs.get(\u001b[33m'\u001b[39m\u001b[33mforce\u001b[39m\u001b[33m'\u001b[39m, force)\n\u001b[32m    107\u001b[39m _measure = kwargs.get(\u001b[33m'\u001b[39m\u001b[33mmeasure\u001b[39m\u001b[33m'\u001b[39m, measure)\n\u001b[32m--> \u001b[39m\u001b[32m108\u001b[39m \u001b[38;5;28;01mreturn\u001b[39;00m \u001b[43mpowsimp\u001b[49m\u001b[43m(\u001b[49m\u001b[43marg\u001b[49m\u001b[43m,\u001b[49m\u001b[43m \u001b[49m\u001b[43m_deep\u001b[49m\u001b[43m,\u001b[49m\u001b[43m \u001b[49m\u001b[43m_combine\u001b[49m\u001b[43m,\u001b[49m\u001b[43m \u001b[49m\u001b[43m_force\u001b[49m\u001b[43m,\u001b[49m\u001b[43m \u001b[49m\u001b[43m_measure\u001b[49m\u001b[43m)\u001b[49m\n",
      "\u001b[36mFile \u001b[39m\u001b[32m~/development/scikit-poles-zeros/venv/lib/python3.13/site-packages/sympy/simplify/powsimp.py:188\u001b[39m, in \u001b[36mpowsimp\u001b[39m\u001b[34m(expr, deep, combine, force, measure)\u001b[39m\n\u001b[32m    186\u001b[39m \u001b[38;5;28;01mif\u001b[39;00m b \u001b[38;5;129;01min\u001b[39;00m skip:\n\u001b[32m    187\u001b[39m     \u001b[38;5;28;01mcontinue\u001b[39;00m\n\u001b[32m--> \u001b[39m\u001b[32m188\u001b[39m bpos = \u001b[43mb\u001b[49m\u001b[43m.\u001b[49m\u001b[43mis_positive\u001b[49m \u001b[38;5;129;01mor\u001b[39;00m b.is_polar\n\u001b[32m    189\u001b[39m \u001b[38;5;28;01mif\u001b[39;00m bpos:\n\u001b[32m    190\u001b[39m     binv = \u001b[32m1\u001b[39m/b\n",
      "\u001b[36mFile \u001b[39m\u001b[32m~/development/scikit-poles-zeros/venv/lib/python3.13/site-packages/sympy/core/assumptions.py:503\u001b[39m, in \u001b[36mmake_property.<locals>.getit\u001b[39m\u001b[34m(self)\u001b[39m\n\u001b[32m    501\u001b[39m \u001b[38;5;28;01mif\u001b[39;00m \u001b[38;5;28mself\u001b[39m._assumptions \u001b[38;5;129;01mis\u001b[39;00m \u001b[38;5;28mself\u001b[39m.default_assumptions:\n\u001b[32m    502\u001b[39m     \u001b[38;5;28mself\u001b[39m._assumptions = \u001b[38;5;28mself\u001b[39m.default_assumptions.copy()\n\u001b[32m--> \u001b[39m\u001b[32m503\u001b[39m \u001b[38;5;28;01mreturn\u001b[39;00m \u001b[43m_ask\u001b[49m\u001b[43m(\u001b[49m\u001b[43mfact\u001b[49m\u001b[43m,\u001b[49m\u001b[43m \u001b[49m\u001b[38;5;28;43mself\u001b[39;49m\u001b[43m)\u001b[49m\n",
      "\u001b[36mFile \u001b[39m\u001b[32m~/development/scikit-poles-zeros/venv/lib/python3.13/site-packages/sympy/core/assumptions.py:559\u001b[39m, in \u001b[36m_ask\u001b[39m\u001b[34m(fact, obj)\u001b[39m\n\u001b[32m    557\u001b[39m handler_i = handler_map.get(fact_i)\n\u001b[32m    558\u001b[39m \u001b[38;5;28;01mif\u001b[39;00m handler_i \u001b[38;5;129;01mis\u001b[39;00m \u001b[38;5;129;01mnot\u001b[39;00m \u001b[38;5;28;01mNone\u001b[39;00m:\n\u001b[32m--> \u001b[39m\u001b[32m559\u001b[39m     fact_i_value = \u001b[43mhandler_i\u001b[49m\u001b[43m(\u001b[49m\u001b[43mobj\u001b[49m\u001b[43m)\u001b[49m\n\u001b[32m    561\u001b[39m \u001b[38;5;66;03m# If we get a new value for fact_i then we should update our knowledge\u001b[39;00m\n\u001b[32m    562\u001b[39m \u001b[38;5;66;03m# of fact_i as well as any related facts that can be inferred using the\u001b[39;00m\n\u001b[32m    563\u001b[39m \u001b[38;5;66;03m# inference rules connecting the fact_i and any other fact values that\u001b[39;00m\n\u001b[32m    564\u001b[39m \u001b[38;5;66;03m# are already known.\u001b[39;00m\n\u001b[32m    565\u001b[39m \u001b[38;5;28;01mif\u001b[39;00m fact_i_value \u001b[38;5;129;01mis\u001b[39;00m \u001b[38;5;129;01mnot\u001b[39;00m \u001b[38;5;28;01mNone\u001b[39;00m:\n",
      "\u001b[36mFile \u001b[39m\u001b[32m~/development/scikit-poles-zeros/venv/lib/python3.13/site-packages/sympy/core/add.py:787\u001b[39m, in \u001b[36mAdd._eval_is_extended_positive\u001b[39m\u001b[34m(self)\u001b[39m\n\u001b[32m    785\u001b[39m pos = nonneg = nonpos = unknown_sign = \u001b[38;5;28;01mFalse\u001b[39;00m\n\u001b[32m    786\u001b[39m saw_INF = \u001b[38;5;28mset\u001b[39m()\n\u001b[32m--> \u001b[39m\u001b[32m787\u001b[39m args = [a \u001b[38;5;28;01mfor\u001b[39;00m a \u001b[38;5;129;01min\u001b[39;00m \u001b[38;5;28mself\u001b[39m.args \u001b[38;5;28;01mif\u001b[39;00m \u001b[38;5;129;01mnot\u001b[39;00m \u001b[43ma\u001b[49m\u001b[43m.\u001b[49m\u001b[43mis_zero\u001b[49m]\n\u001b[32m    788\u001b[39m \u001b[38;5;28;01mif\u001b[39;00m \u001b[38;5;129;01mnot\u001b[39;00m args:\n\u001b[32m    789\u001b[39m     \u001b[38;5;28;01mreturn\u001b[39;00m \u001b[38;5;28;01mFalse\u001b[39;00m\n",
      "\u001b[36mFile \u001b[39m\u001b[32m~/development/scikit-poles-zeros/venv/lib/python3.13/site-packages/sympy/core/assumptions.py:503\u001b[39m, in \u001b[36mmake_property.<locals>.getit\u001b[39m\u001b[34m(self)\u001b[39m\n\u001b[32m    501\u001b[39m \u001b[38;5;28;01mif\u001b[39;00m \u001b[38;5;28mself\u001b[39m._assumptions \u001b[38;5;129;01mis\u001b[39;00m \u001b[38;5;28mself\u001b[39m.default_assumptions:\n\u001b[32m    502\u001b[39m     \u001b[38;5;28mself\u001b[39m._assumptions = \u001b[38;5;28mself\u001b[39m.default_assumptions.copy()\n\u001b[32m--> \u001b[39m\u001b[32m503\u001b[39m \u001b[38;5;28;01mreturn\u001b[39;00m \u001b[43m_ask\u001b[49m\u001b[43m(\u001b[49m\u001b[43mfact\u001b[49m\u001b[43m,\u001b[49m\u001b[43m \u001b[49m\u001b[38;5;28;43mself\u001b[39;49m\u001b[43m)\u001b[49m\n",
      "\u001b[36mFile \u001b[39m\u001b[32m~/development/scikit-poles-zeros/venv/lib/python3.13/site-packages/sympy/core/assumptions.py:559\u001b[39m, in \u001b[36m_ask\u001b[39m\u001b[34m(fact, obj)\u001b[39m\n\u001b[32m    557\u001b[39m handler_i = handler_map.get(fact_i)\n\u001b[32m    558\u001b[39m \u001b[38;5;28;01mif\u001b[39;00m handler_i \u001b[38;5;129;01mis\u001b[39;00m \u001b[38;5;129;01mnot\u001b[39;00m \u001b[38;5;28;01mNone\u001b[39;00m:\n\u001b[32m--> \u001b[39m\u001b[32m559\u001b[39m     fact_i_value = \u001b[43mhandler_i\u001b[49m\u001b[43m(\u001b[49m\u001b[43mobj\u001b[49m\u001b[43m)\u001b[49m\n\u001b[32m    561\u001b[39m \u001b[38;5;66;03m# If we get a new value for fact_i then we should update our knowledge\u001b[39;00m\n\u001b[32m    562\u001b[39m \u001b[38;5;66;03m# of fact_i as well as any related facts that can be inferred using the\u001b[39;00m\n\u001b[32m    563\u001b[39m \u001b[38;5;66;03m# inference rules connecting the fact_i and any other fact values that\u001b[39;00m\n\u001b[32m    564\u001b[39m \u001b[38;5;66;03m# are already known.\u001b[39;00m\n\u001b[32m    565\u001b[39m \u001b[38;5;28;01mif\u001b[39;00m fact_i_value \u001b[38;5;129;01mis\u001b[39;00m \u001b[38;5;129;01mnot\u001b[39;00m \u001b[38;5;28;01mNone\u001b[39;00m:\n",
      "\u001b[36mFile \u001b[39m\u001b[32m~/development/scikit-poles-zeros/venv/lib/python3.13/site-packages/sympy/core/mul.py:1672\u001b[39m, in \u001b[36mMul._eval_is_composite\u001b[39m\u001b[34m(self)\u001b[39m\n\u001b[32m   1670\u001b[39m number_of_args = \u001b[32m0\u001b[39m \u001b[38;5;66;03m# count of symbols with minimum value greater than one\u001b[39;00m\n\u001b[32m   1671\u001b[39m \u001b[38;5;28;01mfor\u001b[39;00m arg \u001b[38;5;129;01min\u001b[39;00m \u001b[38;5;28mself\u001b[39m.args:\n\u001b[32m-> \u001b[39m\u001b[32m1672\u001b[39m     \u001b[38;5;28;01mif\u001b[39;00m \u001b[38;5;129;01mnot\u001b[39;00m (\u001b[43marg\u001b[49m\u001b[43m.\u001b[49m\u001b[43mis_integer\u001b[49m \u001b[38;5;129;01mand\u001b[39;00m arg.is_positive):\n\u001b[32m   1673\u001b[39m         \u001b[38;5;28;01mreturn\u001b[39;00m \u001b[38;5;28;01mNone\u001b[39;00m\n\u001b[32m   1674\u001b[39m     \u001b[38;5;28;01mif\u001b[39;00m (arg-\u001b[32m1\u001b[39m).is_positive:\n",
      "\u001b[36mFile \u001b[39m\u001b[32m~/development/scikit-poles-zeros/venv/lib/python3.13/site-packages/sympy/core/assumptions.py:503\u001b[39m, in \u001b[36mmake_property.<locals>.getit\u001b[39m\u001b[34m(self)\u001b[39m\n\u001b[32m    501\u001b[39m \u001b[38;5;28;01mif\u001b[39;00m \u001b[38;5;28mself\u001b[39m._assumptions \u001b[38;5;129;01mis\u001b[39;00m \u001b[38;5;28mself\u001b[39m.default_assumptions:\n\u001b[32m    502\u001b[39m     \u001b[38;5;28mself\u001b[39m._assumptions = \u001b[38;5;28mself\u001b[39m.default_assumptions.copy()\n\u001b[32m--> \u001b[39m\u001b[32m503\u001b[39m \u001b[38;5;28;01mreturn\u001b[39;00m \u001b[43m_ask\u001b[49m\u001b[43m(\u001b[49m\u001b[43mfact\u001b[49m\u001b[43m,\u001b[49m\u001b[43m \u001b[49m\u001b[38;5;28;43mself\u001b[39;49m\u001b[43m)\u001b[49m\n",
      "\u001b[36mFile \u001b[39m\u001b[32m~/development/scikit-poles-zeros/venv/lib/python3.13/site-packages/sympy/core/assumptions.py:575\u001b[39m, in \u001b[36m_ask\u001b[39m\u001b[34m(fact, obj)\u001b[39m\n\u001b[32m    566\u001b[39m     assumptions.deduce_all_facts(((fact_i, fact_i_value),))\n\u001b[32m    568\u001b[39m \u001b[38;5;66;03m# Usually if assumptions[fact] is now not None then that is because of\u001b[39;00m\n\u001b[32m    569\u001b[39m \u001b[38;5;66;03m# the call to deduce_all_facts above. The handler for fact_i returned\u001b[39;00m\n\u001b[32m    570\u001b[39m \u001b[38;5;66;03m# True or False and knowing fact_i (which is equal to fact in the first\u001b[39;00m\n\u001b[32m   (...)\u001b[39m\u001b[32m    573\u001b[39m \u001b[38;5;66;03m# called in another thread in a multithreaded context might have\u001b[39;00m\n\u001b[32m    574\u001b[39m \u001b[38;5;66;03m# resulted in assumptions[fact] being set. Either way we return it.\u001b[39;00m\n\u001b[32m--> \u001b[39m\u001b[32m575\u001b[39m fact_value = \u001b[43massumptions\u001b[49m\u001b[43m.\u001b[49m\u001b[43mget\u001b[49m\u001b[43m(\u001b[49m\u001b[43mfact\u001b[49m\u001b[43m)\u001b[49m\n\u001b[32m    576\u001b[39m \u001b[38;5;28;01mif\u001b[39;00m fact_value \u001b[38;5;129;01mis\u001b[39;00m \u001b[38;5;129;01mnot\u001b[39;00m \u001b[38;5;28;01mNone\u001b[39;00m:\n\u001b[32m    577\u001b[39m     \u001b[38;5;28;01mreturn\u001b[39;00m fact_value\n",
      "\u001b[31mKeyboardInterrupt\u001b[39m: "
     ]
    }
   ],
   "source": [
    "f = prod(z - k for k in zeros) / prod(z - k for k in poles)\n",
    "f_z = f.diff(z)\n",
    "f_zz = f_z.diff(z).simplify()"
   ]
  },
  {
   "cell_type": "code",
   "execution_count": 56,
   "metadata": {},
   "outputs": [
    {
     "data": {
      "text/latex": [
       "$\\displaystyle \\frac{\\left(z - 90.0 - 68.0 i\\right) \\left(z - 86.0 - 61.0 i\\right) \\left(z - 77.0 - 37.0 i\\right) \\left(z - 74.0 - 28.0 i\\right) \\left(z - 32.0 - 86.0 i\\right) \\left(z - 28.0 - 76.0 i\\right) \\left(z - 28.0 - 66.0 i\\right) \\left(z - 19.0 - 20.0 i\\right) \\left(z - 15.0 - 62.0 i\\right) \\left(z - 7.0 - 48.0 i\\right)}{z - 78.0 - 54.0 i}$"
      ],
      "text/plain": [
       "(z - 90.0 - 68.0⋅ⅈ)⋅(z - 86.0 - 61.0⋅ⅈ)⋅(z - 77.0 - 37.0⋅ⅈ)⋅(z - 74.0 - 28.0⋅ⅈ ↪\n",
       "────────────────────────────────────────────────────────────────────────────── ↪\n",
       "                                                                               ↪\n",
       "\n",
       "↪ )⋅(z - 32.0 - 86.0⋅ⅈ)⋅(z - 28.0 - 76.0⋅ⅈ)⋅(z - 28.0 - 66.0⋅ⅈ)⋅(z - 19.0 - 20 ↪\n",
       "↪ ──────────────────────────────────────────────────────────────────────────── ↪\n",
       "↪             z - 78.0 - 54.0⋅ⅈ                                                ↪\n",
       "\n",
       "↪ .0⋅ⅈ)⋅(z - 15.0 - 62.0⋅ⅈ)⋅(z - 7.0 - 48.0⋅ⅈ)\n",
       "↪ ────────────────────────────────────────────\n",
       "↪                                             "
      ]
     },
     "execution_count": 56,
     "metadata": {},
     "output_type": "execute_result"
    }
   ],
   "source": [
    "f"
   ]
  },
  {
   "cell_type": "code",
   "execution_count": 57,
   "metadata": {},
   "outputs": [
    {
     "data": {
      "text/latex": [
       "$\\displaystyle \\frac{\\left(z - 90.0 - 68.0 i\\right) \\left(z - 86.0 - 61.0 i\\right) \\left(z - 77.0 - 37.0 i\\right) \\left(z - 74.0 - 28.0 i\\right) \\left(z - 32.0 - 86.0 i\\right) \\left(z - 28.0 - 76.0 i\\right) \\left(z - 28.0 - 66.0 i\\right) \\left(z - 19.0 - 20.0 i\\right) \\left(z - 15.0 - 62.0 i\\right)}{z - 78.0 - 54.0 i} + \\frac{\\left(z - 90.0 - 68.0 i\\right) \\left(z - 86.0 - 61.0 i\\right) \\left(z - 77.0 - 37.0 i\\right) \\left(z - 74.0 - 28.0 i\\right) \\left(z - 32.0 - 86.0 i\\right) \\left(z - 28.0 - 76.0 i\\right) \\left(z - 28.0 - 66.0 i\\right) \\left(z - 19.0 - 20.0 i\\right) \\left(z - 7.0 - 48.0 i\\right)}{z - 78.0 - 54.0 i} + \\frac{\\left(z - 90.0 - 68.0 i\\right) \\left(z - 86.0 - 61.0 i\\right) \\left(z - 77.0 - 37.0 i\\right) \\left(z - 74.0 - 28.0 i\\right) \\left(z - 32.0 - 86.0 i\\right) \\left(z - 28.0 - 76.0 i\\right) \\left(z - 28.0 - 66.0 i\\right) \\left(z - 15.0 - 62.0 i\\right) \\left(z - 7.0 - 48.0 i\\right)}{z - 78.0 - 54.0 i} + \\frac{\\left(z - 90.0 - 68.0 i\\right) \\left(z - 86.0 - 61.0 i\\right) \\left(z - 77.0 - 37.0 i\\right) \\left(z - 74.0 - 28.0 i\\right) \\left(z - 32.0 - 86.0 i\\right) \\left(z - 28.0 - 76.0 i\\right) \\left(z - 19.0 - 20.0 i\\right) \\left(z - 15.0 - 62.0 i\\right) \\left(z - 7.0 - 48.0 i\\right)}{z - 78.0 - 54.0 i} + \\frac{\\left(z - 90.0 - 68.0 i\\right) \\left(z - 86.0 - 61.0 i\\right) \\left(z - 77.0 - 37.0 i\\right) \\left(z - 74.0 - 28.0 i\\right) \\left(z - 32.0 - 86.0 i\\right) \\left(z - 28.0 - 66.0 i\\right) \\left(z - 19.0 - 20.0 i\\right) \\left(z - 15.0 - 62.0 i\\right) \\left(z - 7.0 - 48.0 i\\right)}{z - 78.0 - 54.0 i} + \\frac{\\left(z - 90.0 - 68.0 i\\right) \\left(z - 86.0 - 61.0 i\\right) \\left(z - 77.0 - 37.0 i\\right) \\left(z - 74.0 - 28.0 i\\right) \\left(z - 28.0 - 76.0 i\\right) \\left(z - 28.0 - 66.0 i\\right) \\left(z - 19.0 - 20.0 i\\right) \\left(z - 15.0 - 62.0 i\\right) \\left(z - 7.0 - 48.0 i\\right)}{z - 78.0 - 54.0 i} + \\frac{\\left(z - 90.0 - 68.0 i\\right) \\left(z - 86.0 - 61.0 i\\right) \\left(z - 77.0 - 37.0 i\\right) \\left(z - 32.0 - 86.0 i\\right) \\left(z - 28.0 - 76.0 i\\right) \\left(z - 28.0 - 66.0 i\\right) \\left(z - 19.0 - 20.0 i\\right) \\left(z - 15.0 - 62.0 i\\right) \\left(z - 7.0 - 48.0 i\\right)}{z - 78.0 - 54.0 i} + \\frac{\\left(z - 90.0 - 68.0 i\\right) \\left(z - 86.0 - 61.0 i\\right) \\left(z - 74.0 - 28.0 i\\right) \\left(z - 32.0 - 86.0 i\\right) \\left(z - 28.0 - 76.0 i\\right) \\left(z - 28.0 - 66.0 i\\right) \\left(z - 19.0 - 20.0 i\\right) \\left(z - 15.0 - 62.0 i\\right) \\left(z - 7.0 - 48.0 i\\right)}{z - 78.0 - 54.0 i} + \\frac{\\left(z - 90.0 - 68.0 i\\right) \\left(z - 77.0 - 37.0 i\\right) \\left(z - 74.0 - 28.0 i\\right) \\left(z - 32.0 - 86.0 i\\right) \\left(z - 28.0 - 76.0 i\\right) \\left(z - 28.0 - 66.0 i\\right) \\left(z - 19.0 - 20.0 i\\right) \\left(z - 15.0 - 62.0 i\\right) \\left(z - 7.0 - 48.0 i\\right)}{z - 78.0 - 54.0 i} + \\frac{\\left(z - 86.0 - 61.0 i\\right) \\left(z - 77.0 - 37.0 i\\right) \\left(z - 74.0 - 28.0 i\\right) \\left(z - 32.0 - 86.0 i\\right) \\left(z - 28.0 - 76.0 i\\right) \\left(z - 28.0 - 66.0 i\\right) \\left(z - 19.0 - 20.0 i\\right) \\left(z - 15.0 - 62.0 i\\right) \\left(z - 7.0 - 48.0 i\\right)}{z - 78.0 - 54.0 i} - \\frac{0.000164365548980934 \\left(z - 90.0 - 68.0 i\\right) \\left(z - 86.0 - 61.0 i\\right) \\left(z - 77.0 - 37.0 i\\right) \\left(z - 74.0 - 28.0 i\\right) \\left(z - 32.0 - 86.0 i\\right) \\left(z - 28.0 - 76.0 i\\right) \\left(z - 28.0 - 66.0 i\\right) \\left(z - 19.0 - 20.0 i\\right) \\left(z - 15.0 - 62.0 i\\right) \\left(z - 7.0 - 48.0 i\\right)}{\\left(0.0128205128205128 z - 1 - 0.692307692307692 i\\right)^{2}}$"
      ],
      "text/plain": [
       "(z - 90.0 - 68.0⋅ⅈ)⋅(z - 86.0 - 61.0⋅ⅈ)⋅(z - 77.0 - 37.0⋅ⅈ)⋅(z - 74.0 - 28.0⋅ⅈ ↪\n",
       "────────────────────────────────────────────────────────────────────────────── ↪\n",
       "                                                                               ↪\n",
       "                                                                               ↪\n",
       "\n",
       "↪ )⋅(z - 32.0 - 86.0⋅ⅈ)⋅(z - 28.0 - 76.0⋅ⅈ)⋅(z - 28.0 - 66.0⋅ⅈ)⋅(z - 19.0 - 20 ↪\n",
       "↪ ──────────────────────────────────────────────────────────────────────────── ↪\n",
       "↪    z - 78.0 - 54.0⋅ⅈ                                                         ↪\n",
       "↪                                                                              ↪\n",
       "\n",
       "↪ .0⋅ⅈ)⋅(z - 15.0 - 62.0⋅ⅈ)   (z - 90.0 - 68.0⋅ⅈ)⋅(z - 86.0 - 61.0⋅ⅈ)⋅(z - 77. ↪\n",
       "↪ ───────────────────────── + ──────────────────────────────────────────────── ↪\n",
       "↪                                                                              ↪\n",
       "↪                                                                              ↪\n",
       "\n",
       "↪ 0 - 37.0⋅ⅈ)⋅(z - 74.0 - 28.0⋅ⅈ)⋅(z - 32.0 - 86.0⋅ⅈ)⋅(z - 28.0 - 76.0⋅ⅈ)⋅(z - ↪\n",
       "↪ ──────────────────────────────────────────────────────────────────────────── ↪\n",
       "↪                                 z - 78.0 - 54.0⋅ⅈ                            ↪\n",
       "↪                                                                              ↪\n",
       "\n",
       "↪  28.0 - 66.0⋅ⅈ)⋅(z - 19.0 - 20.0⋅ⅈ)⋅(z - 7.0 - 48.0⋅ⅈ)   (z - 90.0 - 68.0⋅ⅈ) ↪\n",
       "↪ ────────────────────────────────────────────────────── + ─────────────────── ↪\n",
       "↪                                                                              ↪\n",
       "↪                                                                              ↪\n",
       "\n",
       "↪ ⋅(z - 86.0 - 61.0⋅ⅈ)⋅(z - 77.0 - 37.0⋅ⅈ)⋅(z - 74.0 - 28.0⋅ⅈ)⋅(z - 32.0 - 86. ↪\n",
       "↪ ──────────────────────────────────────────────────────────────────────────── ↪\n",
       "↪                                                              z - 78.0 - 54.0 ↪\n",
       "↪                                                                              ↪\n",
       "\n",
       "↪ 0⋅ⅈ)⋅(z - 28.0 - 76.0⋅ⅈ)⋅(z - 28.0 - 66.0⋅ⅈ)⋅(z - 15.0 - 62.0⋅ⅈ)⋅(z - 7.0 -  ↪\n",
       "↪ ──────────────────────────────────────────────────────────────────────────── ↪\n",
       "↪ ⋅ⅈ                                                                           ↪\n",
       "↪                                                                              ↪\n",
       "\n",
       "↪ 48.0⋅ⅈ)   (z - 90.0 - 68.0⋅ⅈ)⋅(z - 86.0 - 61.0⋅ⅈ)⋅(z - 77.0 - 37.0⋅ⅈ)⋅(z - 7 ↪\n",
       "↪ ─────── + ────────────────────────────────────────────────────────────────── ↪\n",
       "↪                                                                              ↪\n",
       "↪                                                                              ↪\n",
       "\n",
       "↪ 4.0 - 28.0⋅ⅈ)⋅(z - 32.0 - 86.0⋅ⅈ)⋅(z - 28.0 - 76.0⋅ⅈ)⋅(z - 19.0 - 20.0⋅ⅈ)⋅(z ↪\n",
       "↪ ──────────────────────────────────────────────────────────────────────────── ↪\n",
       "↪               z - 78.0 - 54.0⋅ⅈ                                              ↪\n",
       "↪                                                                              ↪\n",
       "\n",
       "↪  - 15.0 - 62.0⋅ⅈ)⋅(z - 7.0 - 48.0⋅ⅈ)   (z - 90.0 - 68.0⋅ⅈ)⋅(z - 86.0 - 61.0⋅ ↪\n",
       "↪ ──────────────────────────────────── + ───────────────────────────────────── ↪\n",
       "↪                                                                              ↪\n",
       "↪                                                                              ↪\n",
       "\n",
       "↪ ⅈ)⋅(z - 77.0 - 37.0⋅ⅈ)⋅(z - 74.0 - 28.0⋅ⅈ)⋅(z - 32.0 - 86.0⋅ⅈ)⋅(z - 28.0 - 6 ↪\n",
       "↪ ──────────────────────────────────────────────────────────────────────────── ↪\n",
       "↪                                            z - 78.0 - 54.0⋅ⅈ                 ↪\n",
       "↪                                                                              ↪\n",
       "\n",
       "↪ 6.0⋅ⅈ)⋅(z - 19.0 - 20.0⋅ⅈ)⋅(z - 15.0 - 62.0⋅ⅈ)⋅(z - 7.0 - 48.0⋅ⅈ)   (z - 90. ↪\n",
       "↪ ───────────────────────────────────────────────────────────────── + ──────── ↪\n",
       "↪                                                                              ↪\n",
       "↪                                                                              ↪\n",
       "\n",
       "↪ 0 - 68.0⋅ⅈ)⋅(z - 86.0 - 61.0⋅ⅈ)⋅(z - 77.0 - 37.0⋅ⅈ)⋅(z - 74.0 - 28.0⋅ⅈ)⋅(z - ↪\n",
       "↪ ──────────────────────────────────────────────────────────────────────────── ↪\n",
       "↪                                                                         z -  ↪\n",
       "↪                                                                              ↪\n",
       "\n",
       "↪  28.0 - 76.0⋅ⅈ)⋅(z - 28.0 - 66.0⋅ⅈ)⋅(z - 19.0 - 20.0⋅ⅈ)⋅(z - 15.0 - 62.0⋅ⅈ)⋅ ↪\n",
       "↪ ──────────────────────────────────────────────────────────────────────────── ↪\n",
       "↪ 78.0 - 54.0⋅ⅈ                                                                ↪\n",
       "↪                                                                              ↪\n",
       "\n",
       "↪ (z - 7.0 - 48.0⋅ⅈ)   (z - 90.0 - 68.0⋅ⅈ)⋅(z - 86.0 - 61.0⋅ⅈ)⋅(z - 77.0 - 37. ↪\n",
       "↪ ────────────────── + ─────────────────────────────────────────────────────── ↪\n",
       "↪                                                                              ↪\n",
       "↪                                                                              ↪\n",
       "\n",
       "↪ 0⋅ⅈ)⋅(z - 32.0 - 86.0⋅ⅈ)⋅(z - 28.0 - 76.0⋅ⅈ)⋅(z - 28.0 - 66.0⋅ⅈ)⋅(z - 19.0 - ↪\n",
       "↪ ──────────────────────────────────────────────────────────────────────────── ↪\n",
       "↪                          z - 78.0 - 54.0⋅ⅈ                                   ↪\n",
       "↪                                                                              ↪\n",
       "\n",
       "↪  20.0⋅ⅈ)⋅(z - 15.0 - 62.0⋅ⅈ)⋅(z - 7.0 - 48.0⋅ⅈ)   (z - 90.0 - 68.0⋅ⅈ)⋅(z - 8 ↪\n",
       "↪ ─────────────────────────────────────────────── + ────────────────────────── ↪\n",
       "↪                                                                              ↪\n",
       "↪                                                                              ↪\n",
       "\n",
       "↪ 6.0 - 61.0⋅ⅈ)⋅(z - 74.0 - 28.0⋅ⅈ)⋅(z - 32.0 - 86.0⋅ⅈ)⋅(z - 28.0 - 76.0⋅ⅈ)⋅(z ↪\n",
       "↪ ──────────────────────────────────────────────────────────────────────────── ↪\n",
       "↪                                                       z - 78.0 - 54.0⋅ⅈ      ↪\n",
       "↪                                                                              ↪\n",
       "\n",
       "↪  - 28.0 - 66.0⋅ⅈ)⋅(z - 19.0 - 20.0⋅ⅈ)⋅(z - 15.0 - 62.0⋅ⅈ)⋅(z - 7.0 - 48.0⋅ⅈ) ↪\n",
       "↪ ──────────────────────────────────────────────────────────────────────────── ↪\n",
       "↪                                                                              ↪\n",
       "↪                                                                              ↪\n",
       "\n",
       "↪    (z - 90.0 - 68.0⋅ⅈ)⋅(z - 77.0 - 37.0⋅ⅈ)⋅(z - 74.0 - 28.0⋅ⅈ)⋅(z - 32.0 - 8 ↪\n",
       "↪  + ───────────────────────────────────────────────────────────────────────── ↪\n",
       "↪                                                                              ↪\n",
       "↪                                                                              ↪\n",
       "\n",
       "↪ 6.0⋅ⅈ)⋅(z - 28.0 - 76.0⋅ⅈ)⋅(z - 28.0 - 66.0⋅ⅈ)⋅(z - 19.0 - 20.0⋅ⅈ)⋅(z - 15.0 ↪\n",
       "↪ ──────────────────────────────────────────────────────────────────────────── ↪\n",
       "↪        z - 78.0 - 54.0⋅ⅈ                                                     ↪\n",
       "↪                                                                              ↪\n",
       "\n",
       "↪  - 62.0⋅ⅈ)⋅(z - 7.0 - 48.0⋅ⅈ)   (z - 86.0 - 61.0⋅ⅈ)⋅(z - 77.0 - 37.0⋅ⅈ)⋅(z - ↪\n",
       "↪ ───────────────────────────── + ──────────────────────────────────────────── ↪\n",
       "↪                                                                              ↪\n",
       "↪                                                                              ↪\n",
       "\n",
       "↪  74.0 - 28.0⋅ⅈ)⋅(z - 32.0 - 86.0⋅ⅈ)⋅(z - 28.0 - 76.0⋅ⅈ)⋅(z - 28.0 - 66.0⋅ⅈ)⋅ ↪\n",
       "↪ ──────────────────────────────────────────────────────────────────────────── ↪\n",
       "↪                                     z - 78.0 - 54.0⋅ⅈ                        ↪\n",
       "↪                                                                              ↪\n",
       "\n",
       "↪ (z - 19.0 - 20.0⋅ⅈ)⋅(z - 15.0 - 62.0⋅ⅈ)⋅(z - 7.0 - 48.0⋅ⅈ)   0.0001643655489 ↪\n",
       "↪ ────────────────────────────────────────────────────────── - ─────────────── ↪\n",
       "↪                                                                              ↪\n",
       "↪                                                                              ↪\n",
       "\n",
       "↪ 80934⋅(z - 90.0 - 68.0⋅ⅈ)⋅(z - 86.0 - 61.0⋅ⅈ)⋅(z - 77.0 - 37.0⋅ⅈ)⋅(z - 74.0  ↪\n",
       "↪ ──────────────────────────────────────────────────────────────────────────── ↪\n",
       "↪                                                                              ↪\n",
       "↪                                                                       (0.012 ↪\n",
       "\n",
       "↪ - 28.0⋅ⅈ)⋅(z - 32.0 - 86.0⋅ⅈ)⋅(z - 28.0 - 76.0⋅ⅈ)⋅(z - 28.0 - 66.0⋅ⅈ)⋅(z - 1 ↪\n",
       "↪ ──────────────────────────────────────────────────────────────────────────── ↪\n",
       "↪                                           2                                  ↪\n",
       "↪ 8205128205128⋅z - 1 - 0.692307692307692⋅ⅈ)                                   ↪\n",
       "\n",
       "↪ 9.0 - 20.0⋅ⅈ)⋅(z - 15.0 - 62.0⋅ⅈ)⋅(z - 7.0 - 48.0⋅ⅈ)\n",
       "↪ ────────────────────────────────────────────────────\n",
       "↪                                                     \n",
       "↪                                                     "
      ]
     },
     "execution_count": 57,
     "metadata": {},
     "output_type": "execute_result"
    }
   ],
   "source": [
    "f_z"
   ]
  },
  {
   "cell_type": "code",
   "execution_count": null,
   "metadata": {},
   "outputs": [],
   "source": [
    "f_zz"
   ]
  },
  {
   "cell_type": "code",
   "execution_count": null,
   "metadata": {},
   "outputs": [],
   "source": []
  }
 ],
 "metadata": {
  "kernelspec": {
   "display_name": "venv",
   "language": "python",
   "name": "python3"
  },
  "language_info": {
   "codemirror_mode": {
    "name": "ipython",
    "version": 3
   },
   "file_extension": ".py",
   "mimetype": "text/x-python",
   "name": "python",
   "nbconvert_exporter": "python",
   "pygments_lexer": "ipython3",
   "version": "3.13.2"
  }
 },
 "nbformat": 4,
 "nbformat_minor": 2
}
